{
  "cells": [
    {
      "cell_type": "markdown",
      "metadata": {
        "id": "TlWW_byOdcdo"
      },
      "source": [
        "Momento de Retroalimentación: Módulo 2 Implementación de un modelo de deep learning."
      ]
    },
    {
      "cell_type": "markdown",
      "metadata": {
        "id": "7jRmLZGMxPe3"
      },
      "source": [
        "Importamos las librerías necesarias."
      ]
    },
    {
      "cell_type": "code",
      "execution_count": 153,
      "metadata": {
        "id": "SiENX5a4dVga"
      },
      "outputs": [],
      "source": [
        "from tensorflow import keras\n",
        "import pandas as pd\n",
        "import matplotlib.pyplot as plt\n",
        "import numpy as np"
      ]
    },
    {
      "cell_type": "markdown",
      "metadata": {
        "id": "yHBEj6fmVADR"
      },
      "source": [
        "Para este ejercicio trabajaremos con el dataset de Paris Housing Classification obtenido de https://www.kaggle.com/datasets/mssmartypants/paris-housing-classification y que consiste de la información de precios y características de propiedades en Paris junto a si son consideradas como casas \"normales\" o \"de lujo\". Así que supongamos que somos un compañía de bienes raíces que quiere crear un modelo que nos ayude a predecir si las propiedades que vamos a adquirir son de lujo, obteniendo un valor numérico de \"lujosidad\" a partir de las características de la propiedad."
      ]
    },
    {
      "cell_type": "markdown",
      "metadata": {
        "id": "wZCLTMQVfftr"
      },
      "source": [
        "También se utilizaran las funciones de train_test_split y el scaler para facilitar el preprocesamiento de datos."
      ]
    },
    {
      "cell_type": "code",
      "execution_count": 154,
      "metadata": {
        "id": "5I0TipbudjLx"
      },
      "outputs": [],
      "source": [
        "from sklearn.model_selection import train_test_split\n",
        "from sklearn.preprocessing import StandardScaler"
      ]
    },
    {
      "cell_type": "markdown",
      "metadata": {
        "id": "xCiNVaeSg345"
      },
      "source": [
        "Importamos los datos."
      ]
    },
    {
      "cell_type": "code",
      "execution_count": 155,
      "metadata": {
        "id": "sjQZiJC5bLRP"
      },
      "outputs": [],
      "source": [
        "housing = pd.read_csv(\"ParisHousingClass.csv\")"
      ]
    },
    {
      "cell_type": "code",
      "execution_count": 156,
      "metadata": {
        "colab": {
          "base_uri": "https://localhost:8080/",
          "height": 270
        },
        "id": "wRa-mcthbLRP",
        "outputId": "bdc6132f-9114-4b76-ff6e-6eb5e0769a08"
      },
      "outputs": [
        {
          "output_type": "execute_result",
          "data": {
            "text/plain": [
              "   squareMeters  numberOfRooms  hasYard  hasPool  floors  cityCode  \\\n",
              "0         75523              3        0        1      63      9373   \n",
              "1         80771             39        1        1      98     39381   \n",
              "2         55712             58        0        1      19     34457   \n",
              "3         32316             47        0        0       6     27939   \n",
              "4         70429             19        1        1      90     38045   \n",
              "\n",
              "   cityPartRange  numPrevOwners  made  isNewBuilt  hasStormProtector  \\\n",
              "0              3              8  2005           0                  1   \n",
              "1              8              6  2015           1                  0   \n",
              "2              6              8  2021           0                  0   \n",
              "3             10              4  2012           0                  1   \n",
              "4              3              7  1990           1                  0   \n",
              "\n",
              "   basement  attic  garage  hasStorageRoom  hasGuestRoom      price category  \n",
              "0      4313   9005     956               0             7  7559081.5    Basic  \n",
              "1      3653   2436     128               1             2  8085989.5   Luxury  \n",
              "2      2937   8852     135               1             9  5574642.1    Basic  \n",
              "3       659   7141     359               0             3  3232561.2    Basic  \n",
              "4      8435   2429     292               1             4  7055052.0   Luxury  "
            ],
            "text/html": [
              "\n",
              "  <div id=\"df-f3fc29dd-f5cf-458d-889d-00d56bc46ce8\">\n",
              "    <div class=\"colab-df-container\">\n",
              "      <div>\n",
              "<style scoped>\n",
              "    .dataframe tbody tr th:only-of-type {\n",
              "        vertical-align: middle;\n",
              "    }\n",
              "\n",
              "    .dataframe tbody tr th {\n",
              "        vertical-align: top;\n",
              "    }\n",
              "\n",
              "    .dataframe thead th {\n",
              "        text-align: right;\n",
              "    }\n",
              "</style>\n",
              "<table border=\"1\" class=\"dataframe\">\n",
              "  <thead>\n",
              "    <tr style=\"text-align: right;\">\n",
              "      <th></th>\n",
              "      <th>squareMeters</th>\n",
              "      <th>numberOfRooms</th>\n",
              "      <th>hasYard</th>\n",
              "      <th>hasPool</th>\n",
              "      <th>floors</th>\n",
              "      <th>cityCode</th>\n",
              "      <th>cityPartRange</th>\n",
              "      <th>numPrevOwners</th>\n",
              "      <th>made</th>\n",
              "      <th>isNewBuilt</th>\n",
              "      <th>hasStormProtector</th>\n",
              "      <th>basement</th>\n",
              "      <th>attic</th>\n",
              "      <th>garage</th>\n",
              "      <th>hasStorageRoom</th>\n",
              "      <th>hasGuestRoom</th>\n",
              "      <th>price</th>\n",
              "      <th>category</th>\n",
              "    </tr>\n",
              "  </thead>\n",
              "  <tbody>\n",
              "    <tr>\n",
              "      <th>0</th>\n",
              "      <td>75523</td>\n",
              "      <td>3</td>\n",
              "      <td>0</td>\n",
              "      <td>1</td>\n",
              "      <td>63</td>\n",
              "      <td>9373</td>\n",
              "      <td>3</td>\n",
              "      <td>8</td>\n",
              "      <td>2005</td>\n",
              "      <td>0</td>\n",
              "      <td>1</td>\n",
              "      <td>4313</td>\n",
              "      <td>9005</td>\n",
              "      <td>956</td>\n",
              "      <td>0</td>\n",
              "      <td>7</td>\n",
              "      <td>7559081.5</td>\n",
              "      <td>Basic</td>\n",
              "    </tr>\n",
              "    <tr>\n",
              "      <th>1</th>\n",
              "      <td>80771</td>\n",
              "      <td>39</td>\n",
              "      <td>1</td>\n",
              "      <td>1</td>\n",
              "      <td>98</td>\n",
              "      <td>39381</td>\n",
              "      <td>8</td>\n",
              "      <td>6</td>\n",
              "      <td>2015</td>\n",
              "      <td>1</td>\n",
              "      <td>0</td>\n",
              "      <td>3653</td>\n",
              "      <td>2436</td>\n",
              "      <td>128</td>\n",
              "      <td>1</td>\n",
              "      <td>2</td>\n",
              "      <td>8085989.5</td>\n",
              "      <td>Luxury</td>\n",
              "    </tr>\n",
              "    <tr>\n",
              "      <th>2</th>\n",
              "      <td>55712</td>\n",
              "      <td>58</td>\n",
              "      <td>0</td>\n",
              "      <td>1</td>\n",
              "      <td>19</td>\n",
              "      <td>34457</td>\n",
              "      <td>6</td>\n",
              "      <td>8</td>\n",
              "      <td>2021</td>\n",
              "      <td>0</td>\n",
              "      <td>0</td>\n",
              "      <td>2937</td>\n",
              "      <td>8852</td>\n",
              "      <td>135</td>\n",
              "      <td>1</td>\n",
              "      <td>9</td>\n",
              "      <td>5574642.1</td>\n",
              "      <td>Basic</td>\n",
              "    </tr>\n",
              "    <tr>\n",
              "      <th>3</th>\n",
              "      <td>32316</td>\n",
              "      <td>47</td>\n",
              "      <td>0</td>\n",
              "      <td>0</td>\n",
              "      <td>6</td>\n",
              "      <td>27939</td>\n",
              "      <td>10</td>\n",
              "      <td>4</td>\n",
              "      <td>2012</td>\n",
              "      <td>0</td>\n",
              "      <td>1</td>\n",
              "      <td>659</td>\n",
              "      <td>7141</td>\n",
              "      <td>359</td>\n",
              "      <td>0</td>\n",
              "      <td>3</td>\n",
              "      <td>3232561.2</td>\n",
              "      <td>Basic</td>\n",
              "    </tr>\n",
              "    <tr>\n",
              "      <th>4</th>\n",
              "      <td>70429</td>\n",
              "      <td>19</td>\n",
              "      <td>1</td>\n",
              "      <td>1</td>\n",
              "      <td>90</td>\n",
              "      <td>38045</td>\n",
              "      <td>3</td>\n",
              "      <td>7</td>\n",
              "      <td>1990</td>\n",
              "      <td>1</td>\n",
              "      <td>0</td>\n",
              "      <td>8435</td>\n",
              "      <td>2429</td>\n",
              "      <td>292</td>\n",
              "      <td>1</td>\n",
              "      <td>4</td>\n",
              "      <td>7055052.0</td>\n",
              "      <td>Luxury</td>\n",
              "    </tr>\n",
              "  </tbody>\n",
              "</table>\n",
              "</div>\n",
              "      <button class=\"colab-df-convert\" onclick=\"convertToInteractive('df-f3fc29dd-f5cf-458d-889d-00d56bc46ce8')\"\n",
              "              title=\"Convert this dataframe to an interactive table.\"\n",
              "              style=\"display:none;\">\n",
              "        \n",
              "  <svg xmlns=\"http://www.w3.org/2000/svg\" height=\"24px\"viewBox=\"0 0 24 24\"\n",
              "       width=\"24px\">\n",
              "    <path d=\"M0 0h24v24H0V0z\" fill=\"none\"/>\n",
              "    <path d=\"M18.56 5.44l.94 2.06.94-2.06 2.06-.94-2.06-.94-.94-2.06-.94 2.06-2.06.94zm-11 1L8.5 8.5l.94-2.06 2.06-.94-2.06-.94L8.5 2.5l-.94 2.06-2.06.94zm10 10l.94 2.06.94-2.06 2.06-.94-2.06-.94-.94-2.06-.94 2.06-2.06.94z\"/><path d=\"M17.41 7.96l-1.37-1.37c-.4-.4-.92-.59-1.43-.59-.52 0-1.04.2-1.43.59L10.3 9.45l-7.72 7.72c-.78.78-.78 2.05 0 2.83L4 21.41c.39.39.9.59 1.41.59.51 0 1.02-.2 1.41-.59l7.78-7.78 2.81-2.81c.8-.78.8-2.07 0-2.86zM5.41 20L4 18.59l7.72-7.72 1.47 1.35L5.41 20z\"/>\n",
              "  </svg>\n",
              "      </button>\n",
              "      \n",
              "  <style>\n",
              "    .colab-df-container {\n",
              "      display:flex;\n",
              "      flex-wrap:wrap;\n",
              "      gap: 12px;\n",
              "    }\n",
              "\n",
              "    .colab-df-convert {\n",
              "      background-color: #E8F0FE;\n",
              "      border: none;\n",
              "      border-radius: 50%;\n",
              "      cursor: pointer;\n",
              "      display: none;\n",
              "      fill: #1967D2;\n",
              "      height: 32px;\n",
              "      padding: 0 0 0 0;\n",
              "      width: 32px;\n",
              "    }\n",
              "\n",
              "    .colab-df-convert:hover {\n",
              "      background-color: #E2EBFA;\n",
              "      box-shadow: 0px 1px 2px rgba(60, 64, 67, 0.3), 0px 1px 3px 1px rgba(60, 64, 67, 0.15);\n",
              "      fill: #174EA6;\n",
              "    }\n",
              "\n",
              "    [theme=dark] .colab-df-convert {\n",
              "      background-color: #3B4455;\n",
              "      fill: #D2E3FC;\n",
              "    }\n",
              "\n",
              "    [theme=dark] .colab-df-convert:hover {\n",
              "      background-color: #434B5C;\n",
              "      box-shadow: 0px 1px 3px 1px rgba(0, 0, 0, 0.15);\n",
              "      filter: drop-shadow(0px 1px 2px rgba(0, 0, 0, 0.3));\n",
              "      fill: #FFFFFF;\n",
              "    }\n",
              "  </style>\n",
              "\n",
              "      <script>\n",
              "        const buttonEl =\n",
              "          document.querySelector('#df-f3fc29dd-f5cf-458d-889d-00d56bc46ce8 button.colab-df-convert');\n",
              "        buttonEl.style.display =\n",
              "          google.colab.kernel.accessAllowed ? 'block' : 'none';\n",
              "\n",
              "        async function convertToInteractive(key) {\n",
              "          const element = document.querySelector('#df-f3fc29dd-f5cf-458d-889d-00d56bc46ce8');\n",
              "          const dataTable =\n",
              "            await google.colab.kernel.invokeFunction('convertToInteractive',\n",
              "                                                     [key], {});\n",
              "          if (!dataTable) return;\n",
              "\n",
              "          const docLinkHtml = 'Like what you see? Visit the ' +\n",
              "            '<a target=\"_blank\" href=https://colab.research.google.com/notebooks/data_table.ipynb>data table notebook</a>'\n",
              "            + ' to learn more about interactive tables.';\n",
              "          element.innerHTML = '';\n",
              "          dataTable['output_type'] = 'display_data';\n",
              "          await google.colab.output.renderOutput(dataTable, element);\n",
              "          const docLink = document.createElement('div');\n",
              "          docLink.innerHTML = docLinkHtml;\n",
              "          element.appendChild(docLink);\n",
              "        }\n",
              "      </script>\n",
              "    </div>\n",
              "  </div>\n",
              "  "
            ]
          },
          "metadata": {},
          "execution_count": 156
        }
      ],
      "source": [
        "housing.head()"
      ]
    },
    {
      "cell_type": "markdown",
      "metadata": {
        "id": "c1t4X3uRbLRQ"
      },
      "source": [
        "Vamos a substituir los strings de la columna `category` por valores numéricos equivalentes.\n",
        "Basic = 1\n",
        "Luxury = 2"
      ]
    },
    {
      "cell_type": "code",
      "execution_count": 157,
      "metadata": {
        "id": "_YB8n0uRbLRS"
      },
      "outputs": [],
      "source": [
        "housing.loc[housing[\"category\"] == \"Basic\", \"category\"] = 1\n",
        "housing.loc[housing[\"category\"] == \"Luxury\", \"category\"] = 2"
      ]
    },
    {
      "cell_type": "code",
      "execution_count": 158,
      "metadata": {
        "colab": {
          "base_uri": "https://localhost:8080/",
          "height": 270
        },
        "id": "5IatPPbbbLRS",
        "outputId": "9e29c996-d081-4978-c123-3430528b5764"
      },
      "outputs": [
        {
          "output_type": "execute_result",
          "data": {
            "text/plain": [
              "   squareMeters  numberOfRooms  hasYard  hasPool  floors  cityCode  \\\n",
              "0         75523              3        0        1      63      9373   \n",
              "1         80771             39        1        1      98     39381   \n",
              "2         55712             58        0        1      19     34457   \n",
              "3         32316             47        0        0       6     27939   \n",
              "4         70429             19        1        1      90     38045   \n",
              "\n",
              "   cityPartRange  numPrevOwners  made  isNewBuilt  hasStormProtector  \\\n",
              "0              3              8  2005           0                  1   \n",
              "1              8              6  2015           1                  0   \n",
              "2              6              8  2021           0                  0   \n",
              "3             10              4  2012           0                  1   \n",
              "4              3              7  1990           1                  0   \n",
              "\n",
              "   basement  attic  garage  hasStorageRoom  hasGuestRoom      price category  \n",
              "0      4313   9005     956               0             7  7559081.5        1  \n",
              "1      3653   2436     128               1             2  8085989.5        2  \n",
              "2      2937   8852     135               1             9  5574642.1        1  \n",
              "3       659   7141     359               0             3  3232561.2        1  \n",
              "4      8435   2429     292               1             4  7055052.0        2  "
            ],
            "text/html": [
              "\n",
              "  <div id=\"df-0ec11397-18ff-4d1b-bf14-b5338dc260ae\">\n",
              "    <div class=\"colab-df-container\">\n",
              "      <div>\n",
              "<style scoped>\n",
              "    .dataframe tbody tr th:only-of-type {\n",
              "        vertical-align: middle;\n",
              "    }\n",
              "\n",
              "    .dataframe tbody tr th {\n",
              "        vertical-align: top;\n",
              "    }\n",
              "\n",
              "    .dataframe thead th {\n",
              "        text-align: right;\n",
              "    }\n",
              "</style>\n",
              "<table border=\"1\" class=\"dataframe\">\n",
              "  <thead>\n",
              "    <tr style=\"text-align: right;\">\n",
              "      <th></th>\n",
              "      <th>squareMeters</th>\n",
              "      <th>numberOfRooms</th>\n",
              "      <th>hasYard</th>\n",
              "      <th>hasPool</th>\n",
              "      <th>floors</th>\n",
              "      <th>cityCode</th>\n",
              "      <th>cityPartRange</th>\n",
              "      <th>numPrevOwners</th>\n",
              "      <th>made</th>\n",
              "      <th>isNewBuilt</th>\n",
              "      <th>hasStormProtector</th>\n",
              "      <th>basement</th>\n",
              "      <th>attic</th>\n",
              "      <th>garage</th>\n",
              "      <th>hasStorageRoom</th>\n",
              "      <th>hasGuestRoom</th>\n",
              "      <th>price</th>\n",
              "      <th>category</th>\n",
              "    </tr>\n",
              "  </thead>\n",
              "  <tbody>\n",
              "    <tr>\n",
              "      <th>0</th>\n",
              "      <td>75523</td>\n",
              "      <td>3</td>\n",
              "      <td>0</td>\n",
              "      <td>1</td>\n",
              "      <td>63</td>\n",
              "      <td>9373</td>\n",
              "      <td>3</td>\n",
              "      <td>8</td>\n",
              "      <td>2005</td>\n",
              "      <td>0</td>\n",
              "      <td>1</td>\n",
              "      <td>4313</td>\n",
              "      <td>9005</td>\n",
              "      <td>956</td>\n",
              "      <td>0</td>\n",
              "      <td>7</td>\n",
              "      <td>7559081.5</td>\n",
              "      <td>1</td>\n",
              "    </tr>\n",
              "    <tr>\n",
              "      <th>1</th>\n",
              "      <td>80771</td>\n",
              "      <td>39</td>\n",
              "      <td>1</td>\n",
              "      <td>1</td>\n",
              "      <td>98</td>\n",
              "      <td>39381</td>\n",
              "      <td>8</td>\n",
              "      <td>6</td>\n",
              "      <td>2015</td>\n",
              "      <td>1</td>\n",
              "      <td>0</td>\n",
              "      <td>3653</td>\n",
              "      <td>2436</td>\n",
              "      <td>128</td>\n",
              "      <td>1</td>\n",
              "      <td>2</td>\n",
              "      <td>8085989.5</td>\n",
              "      <td>2</td>\n",
              "    </tr>\n",
              "    <tr>\n",
              "      <th>2</th>\n",
              "      <td>55712</td>\n",
              "      <td>58</td>\n",
              "      <td>0</td>\n",
              "      <td>1</td>\n",
              "      <td>19</td>\n",
              "      <td>34457</td>\n",
              "      <td>6</td>\n",
              "      <td>8</td>\n",
              "      <td>2021</td>\n",
              "      <td>0</td>\n",
              "      <td>0</td>\n",
              "      <td>2937</td>\n",
              "      <td>8852</td>\n",
              "      <td>135</td>\n",
              "      <td>1</td>\n",
              "      <td>9</td>\n",
              "      <td>5574642.1</td>\n",
              "      <td>1</td>\n",
              "    </tr>\n",
              "    <tr>\n",
              "      <th>3</th>\n",
              "      <td>32316</td>\n",
              "      <td>47</td>\n",
              "      <td>0</td>\n",
              "      <td>0</td>\n",
              "      <td>6</td>\n",
              "      <td>27939</td>\n",
              "      <td>10</td>\n",
              "      <td>4</td>\n",
              "      <td>2012</td>\n",
              "      <td>0</td>\n",
              "      <td>1</td>\n",
              "      <td>659</td>\n",
              "      <td>7141</td>\n",
              "      <td>359</td>\n",
              "      <td>0</td>\n",
              "      <td>3</td>\n",
              "      <td>3232561.2</td>\n",
              "      <td>1</td>\n",
              "    </tr>\n",
              "    <tr>\n",
              "      <th>4</th>\n",
              "      <td>70429</td>\n",
              "      <td>19</td>\n",
              "      <td>1</td>\n",
              "      <td>1</td>\n",
              "      <td>90</td>\n",
              "      <td>38045</td>\n",
              "      <td>3</td>\n",
              "      <td>7</td>\n",
              "      <td>1990</td>\n",
              "      <td>1</td>\n",
              "      <td>0</td>\n",
              "      <td>8435</td>\n",
              "      <td>2429</td>\n",
              "      <td>292</td>\n",
              "      <td>1</td>\n",
              "      <td>4</td>\n",
              "      <td>7055052.0</td>\n",
              "      <td>2</td>\n",
              "    </tr>\n",
              "  </tbody>\n",
              "</table>\n",
              "</div>\n",
              "      <button class=\"colab-df-convert\" onclick=\"convertToInteractive('df-0ec11397-18ff-4d1b-bf14-b5338dc260ae')\"\n",
              "              title=\"Convert this dataframe to an interactive table.\"\n",
              "              style=\"display:none;\">\n",
              "        \n",
              "  <svg xmlns=\"http://www.w3.org/2000/svg\" height=\"24px\"viewBox=\"0 0 24 24\"\n",
              "       width=\"24px\">\n",
              "    <path d=\"M0 0h24v24H0V0z\" fill=\"none\"/>\n",
              "    <path d=\"M18.56 5.44l.94 2.06.94-2.06 2.06-.94-2.06-.94-.94-2.06-.94 2.06-2.06.94zm-11 1L8.5 8.5l.94-2.06 2.06-.94-2.06-.94L8.5 2.5l-.94 2.06-2.06.94zm10 10l.94 2.06.94-2.06 2.06-.94-2.06-.94-.94-2.06-.94 2.06-2.06.94z\"/><path d=\"M17.41 7.96l-1.37-1.37c-.4-.4-.92-.59-1.43-.59-.52 0-1.04.2-1.43.59L10.3 9.45l-7.72 7.72c-.78.78-.78 2.05 0 2.83L4 21.41c.39.39.9.59 1.41.59.51 0 1.02-.2 1.41-.59l7.78-7.78 2.81-2.81c.8-.78.8-2.07 0-2.86zM5.41 20L4 18.59l7.72-7.72 1.47 1.35L5.41 20z\"/>\n",
              "  </svg>\n",
              "      </button>\n",
              "      \n",
              "  <style>\n",
              "    .colab-df-container {\n",
              "      display:flex;\n",
              "      flex-wrap:wrap;\n",
              "      gap: 12px;\n",
              "    }\n",
              "\n",
              "    .colab-df-convert {\n",
              "      background-color: #E8F0FE;\n",
              "      border: none;\n",
              "      border-radius: 50%;\n",
              "      cursor: pointer;\n",
              "      display: none;\n",
              "      fill: #1967D2;\n",
              "      height: 32px;\n",
              "      padding: 0 0 0 0;\n",
              "      width: 32px;\n",
              "    }\n",
              "\n",
              "    .colab-df-convert:hover {\n",
              "      background-color: #E2EBFA;\n",
              "      box-shadow: 0px 1px 2px rgba(60, 64, 67, 0.3), 0px 1px 3px 1px rgba(60, 64, 67, 0.15);\n",
              "      fill: #174EA6;\n",
              "    }\n",
              "\n",
              "    [theme=dark] .colab-df-convert {\n",
              "      background-color: #3B4455;\n",
              "      fill: #D2E3FC;\n",
              "    }\n",
              "\n",
              "    [theme=dark] .colab-df-convert:hover {\n",
              "      background-color: #434B5C;\n",
              "      box-shadow: 0px 1px 3px 1px rgba(0, 0, 0, 0.15);\n",
              "      filter: drop-shadow(0px 1px 2px rgba(0, 0, 0, 0.3));\n",
              "      fill: #FFFFFF;\n",
              "    }\n",
              "  </style>\n",
              "\n",
              "      <script>\n",
              "        const buttonEl =\n",
              "          document.querySelector('#df-0ec11397-18ff-4d1b-bf14-b5338dc260ae button.colab-df-convert');\n",
              "        buttonEl.style.display =\n",
              "          google.colab.kernel.accessAllowed ? 'block' : 'none';\n",
              "\n",
              "        async function convertToInteractive(key) {\n",
              "          const element = document.querySelector('#df-0ec11397-18ff-4d1b-bf14-b5338dc260ae');\n",
              "          const dataTable =\n",
              "            await google.colab.kernel.invokeFunction('convertToInteractive',\n",
              "                                                     [key], {});\n",
              "          if (!dataTable) return;\n",
              "\n",
              "          const docLinkHtml = 'Like what you see? Visit the ' +\n",
              "            '<a target=\"_blank\" href=https://colab.research.google.com/notebooks/data_table.ipynb>data table notebook</a>'\n",
              "            + ' to learn more about interactive tables.';\n",
              "          element.innerHTML = '';\n",
              "          dataTable['output_type'] = 'display_data';\n",
              "          await google.colab.output.renderOutput(dataTable, element);\n",
              "          const docLink = document.createElement('div');\n",
              "          docLink.innerHTML = docLinkHtml;\n",
              "          element.appendChild(docLink);\n",
              "        }\n",
              "      </script>\n",
              "    </div>\n",
              "  </div>\n",
              "  "
            ]
          },
          "metadata": {},
          "execution_count": 158
        }
      ],
      "source": [
        "housing.head()"
      ]
    },
    {
      "cell_type": "markdown",
      "metadata": {
        "id": "RSNFhIZmbLRT"
      },
      "source": [
        "Y luego convertir el datatype de esa columna a uno numérico."
      ]
    },
    {
      "cell_type": "code",
      "execution_count": 159,
      "metadata": {
        "id": "4302iRzKbLRT"
      },
      "outputs": [],
      "source": [
        "housing = housing.astype({'category':'int'})"
      ]
    },
    {
      "cell_type": "markdown",
      "metadata": {
        "id": "vi9cXAa2bLRU"
      },
      "source": [
        "Ahora vamos a separar el dataframe en datos de entrada y de salida."
      ]
    },
    {
      "cell_type": "code",
      "execution_count": 160,
      "metadata": {
        "id": "l7VNoY22bLRU"
      },
      "outputs": [],
      "source": [
        "y = housing['category']\n",
        "X = housing.drop(columns=['category'])"
      ]
    },
    {
      "cell_type": "markdown",
      "metadata": {
        "id": "9B2qo7CtbLRV"
      },
      "source": [
        "Y luego vamos a separar los datos entre train y test."
      ]
    },
    {
      "cell_type": "code",
      "execution_count": 161,
      "metadata": {
        "id": "q_Hcl_RMg8lz"
      },
      "outputs": [],
      "source": [
        "X_train, X_test, y_train, y_test = train_test_split(X, y)"
      ]
    },
    {
      "cell_type": "markdown",
      "metadata": {
        "id": "l8AlvJ-ehAsj"
      },
      "source": [
        "Hacemos otro split sobre los datos de train para obtener datos de validación"
      ]
    },
    {
      "cell_type": "code",
      "execution_count": 162,
      "metadata": {
        "id": "ex1SoAkxhDbO"
      },
      "outputs": [],
      "source": [
        "X_train, X_valid, y_train, y_valid = train_test_split(X_train, y_train)"
      ]
    },
    {
      "cell_type": "markdown",
      "metadata": {
        "id": "Ms-I7rRShHer"
      },
      "source": [
        "Ahora escalaremos los datos haciendo uso del StandardScaler de sklearn."
      ]
    },
    {
      "cell_type": "code",
      "execution_count": 163,
      "metadata": {
        "id": "gcuj-fKOfyuy"
      },
      "outputs": [],
      "source": [
        "scaler = StandardScaler()\n",
        "X_train = scaler.fit_transform(X_train)\n",
        "X_valid = scaler.transform(X_valid)\n",
        "X_test = scaler.transform(X_test)"
      ]
    },
    {
      "cell_type": "markdown",
      "metadata": {
        "id": "tU05-iiKhOLB"
      },
      "source": [
        "Ahora creamos el modelo usando un objeto `Sequential()` de keras.\n",
        "Le añadiremos un capa densa de 30 neuronas con función de activación relu y una capa de dos neuronas que servira como salida ya que se está intentado predecir un valor categórico con dos valores posibles."
      ]
    },
    {
      "cell_type": "code",
      "execution_count": 164,
      "metadata": {
        "id": "ZVT7M93ojHpV"
      },
      "outputs": [],
      "source": [
        "model = keras.models.Sequential()\n",
        "model.add(keras.layers.Dense(30, activation=\"relu\", input_shape=X_train.shape[1:]))\n",
        "model.add(keras.layers.Dense(2))"
      ]
    },
    {
      "cell_type": "markdown",
      "metadata": {
        "id": "bBS0xCq8ntv0"
      },
      "source": [
        "Se compila el modelo con un optimizador de gradiente descendiente."
      ]
    },
    {
      "cell_type": "code",
      "execution_count": 165,
      "metadata": {
        "id": "zfENNOtlkNRB"
      },
      "outputs": [],
      "source": [
        "model.compile(loss=\"mean_squared_error\", optimizer=\"sgd\", metrics=[\"accuracy\"])"
      ]
    },
    {
      "cell_type": "markdown",
      "metadata": {
        "id": "EM1snM4Tn8nu"
      },
      "source": [
        "Se hace fit con los datos y se entrena el modelo."
      ]
    },
    {
      "cell_type": "code",
      "execution_count": 166,
      "metadata": {
        "colab": {
          "base_uri": "https://localhost:8080/"
        },
        "id": "4YT0veZVkN6n",
        "outputId": "5ac1c98b-b9c3-4b8c-b758-8f5d63b4404b"
      },
      "outputs": [
        {
          "output_type": "stream",
          "name": "stdout",
          "text": [
            "Epoch 1/20\n",
            "176/176 [==============================] - 1s 4ms/step - loss: 0.2742 - accuracy: 0.4226 - val_loss: 0.1560 - val_accuracy: 0.4565\n",
            "Epoch 2/20\n",
            "176/176 [==============================] - 0s 3ms/step - loss: 0.1228 - accuracy: 0.4484 - val_loss: 0.1081 - val_accuracy: 0.4379\n",
            "Epoch 3/20\n",
            "176/176 [==============================] - 0s 2ms/step - loss: 0.0937 - accuracy: 0.4444 - val_loss: 0.0883 - val_accuracy: 0.4272\n",
            "Epoch 4/20\n",
            "176/176 [==============================] - 0s 3ms/step - loss: 0.0786 - accuracy: 0.4425 - val_loss: 0.0757 - val_accuracy: 0.4272\n",
            "Epoch 5/20\n",
            "176/176 [==============================] - 1s 3ms/step - loss: 0.0683 - accuracy: 0.4373 - val_loss: 0.0666 - val_accuracy: 0.4331\n",
            "Epoch 6/20\n",
            "176/176 [==============================] - 0s 2ms/step - loss: 0.0606 - accuracy: 0.4373 - val_loss: 0.0590 - val_accuracy: 0.4373\n",
            "Epoch 7/20\n",
            "176/176 [==============================] - 0s 3ms/step - loss: 0.0544 - accuracy: 0.4402 - val_loss: 0.0531 - val_accuracy: 0.4416\n",
            "Epoch 8/20\n",
            "176/176 [==============================] - 0s 3ms/step - loss: 0.0492 - accuracy: 0.4411 - val_loss: 0.0481 - val_accuracy: 0.4512\n",
            "Epoch 9/20\n",
            "176/176 [==============================] - 0s 3ms/step - loss: 0.0449 - accuracy: 0.4437 - val_loss: 0.0439 - val_accuracy: 0.4469\n",
            "Epoch 10/20\n",
            "176/176 [==============================] - 0s 3ms/step - loss: 0.0411 - accuracy: 0.4448 - val_loss: 0.0402 - val_accuracy: 0.4517\n",
            "Epoch 11/20\n",
            "176/176 [==============================] - 0s 2ms/step - loss: 0.0378 - accuracy: 0.4469 - val_loss: 0.0369 - val_accuracy: 0.4352\n",
            "Epoch 12/20\n",
            "176/176 [==============================] - 0s 2ms/step - loss: 0.0349 - accuracy: 0.4439 - val_loss: 0.0341 - val_accuracy: 0.4560\n",
            "Epoch 13/20\n",
            "176/176 [==============================] - 0s 3ms/step - loss: 0.0323 - accuracy: 0.4476 - val_loss: 0.0315 - val_accuracy: 0.4576\n",
            "Epoch 14/20\n",
            "176/176 [==============================] - 0s 2ms/step - loss: 0.0299 - accuracy: 0.4480 - val_loss: 0.0290 - val_accuracy: 0.4523\n",
            "Epoch 15/20\n",
            "176/176 [==============================] - 0s 3ms/step - loss: 0.0277 - accuracy: 0.4496 - val_loss: 0.0268 - val_accuracy: 0.4549\n",
            "Epoch 16/20\n",
            "176/176 [==============================] - 0s 3ms/step - loss: 0.0256 - accuracy: 0.4478 - val_loss: 0.0247 - val_accuracy: 0.4757\n",
            "Epoch 17/20\n",
            "176/176 [==============================] - 0s 2ms/step - loss: 0.0236 - accuracy: 0.4507 - val_loss: 0.0227 - val_accuracy: 0.4571\n",
            "Epoch 18/20\n",
            "176/176 [==============================] - 0s 3ms/step - loss: 0.0218 - accuracy: 0.4498 - val_loss: 0.0209 - val_accuracy: 0.4715\n",
            "Epoch 19/20\n",
            "176/176 [==============================] - 0s 3ms/step - loss: 0.0200 - accuracy: 0.4533 - val_loss: 0.0192 - val_accuracy: 0.4576\n",
            "Epoch 20/20\n",
            "176/176 [==============================] - 0s 3ms/step - loss: 0.0184 - accuracy: 0.4553 - val_loss: 0.0176 - val_accuracy: 0.4533\n"
          ]
        }
      ],
      "source": [
        "history = model.fit(X_train, y_train, epochs=20, validation_data=(X_valid, y_valid))"
      ]
    },
    {
      "cell_type": "markdown",
      "metadata": {
        "id": "F0x5mS3XoB60"
      },
      "source": [
        "Graficamos los resultados con matplotlib"
      ]
    },
    {
      "cell_type": "code",
      "execution_count": 167,
      "metadata": {
        "colab": {
          "base_uri": "https://localhost:8080/",
          "height": 324
        },
        "id": "4gnaTl3TkQbH",
        "outputId": "a56468a1-028b-4685-bfdc-7788584592c9"
      },
      "outputs": [
        {
          "output_type": "display_data",
          "data": {
            "text/plain": [
              "<Figure size 576x360 with 1 Axes>"
            ],
            "image/png": "[encoded data removed]"
          },
          "metadata": {
            "needs_background": "light"
          }
        }
      ],
      "source": [
        "pd.DataFrame(history.history).plot(figsize=(8, 5))\n",
        "plt.grid(True)\n",
        "plt.gca().set_ylim(0, 1) # set the vertical range to [0-1]\n",
        "plt.show()"
      ]
    },
    {
      "cell_type": "markdown",
      "metadata": {
        "id": "KbzajPaQoGwU"
      },
      "source": [
        "Como se puede ver el loss se va reduciendo conforme pasan las epochs de entrenamiento."
      ]
    },
    {
      "cell_type": "markdown",
      "metadata": {
        "id": "DRIm5kF8oMbn"
      },
      "source": [
        "Con esto modelo podemos hacer predicciones, en este caso reutilizaremos 3 datos del dataset de entrenamiento."
      ]
    },
    {
      "cell_type": "code",
      "execution_count": 168,
      "metadata": {
        "colab": {
          "base_uri": "https://localhost:8080/"
        },
        "id": "kbgeBFUlluM6",
        "outputId": "83940457-0c28-4bff-f35b-12119d2ed301"
      },
      "outputs": [
        {
          "output_type": "stream",
          "name": "stdout",
          "text": [
            "79/79 [==============================] - 0s 2ms/step - loss: 0.0190 - accuracy: 0.4460\n"
          ]
        },
        {
          "output_type": "execute_result",
          "data": {
            "text/plain": [
              "[0.018976205959916115, 0.44600000977516174]"
            ]
          },
          "metadata": {},
          "execution_count": 168
        }
      ],
      "source": [
        "mse_test = model.evaluate(X_test, y_test)\n",
        "mse_test"
      ]
    },
    {
      "cell_type": "code",
      "source": [
        "X_dummy = X_test[:3]\n",
        "y_pred = model.predict(X_dummy)\n",
        "y_pred"
      ],
      "metadata": {
        "colab": {
          "base_uri": "https://localhost:8080/"
        },
        "id": "6HNihHzOjOCp",
        "outputId": "046cfefa-eab2-40f1-9e85-b8e0172348fb"
      },
      "execution_count": 169,
      "outputs": [
        {
          "output_type": "stream",
          "name": "stdout",
          "text": [
            "1/1 [==============================] - 0s 45ms/step\n"
          ]
        },
        {
          "output_type": "execute_result",
          "data": {
            "text/plain": [
              "array([[1.0233643 , 1.0330253 ],\n",
              "       [0.9867048 , 1.01248   ],\n",
              "       [0.7068348 , 0.79675555]], dtype=float32)"
            ]
          },
          "metadata": {},
          "execution_count": 169
        }
      ]
    },
    {
      "cell_type": "markdown",
      "metadata": {
        "id": "Ez2mRTaQoqhA"
      },
      "source": [
        "Mejorando el modelo"
      ]
    },
    {
      "cell_type": "markdown",
      "metadata": {
        "id": "GRIW04Hgosa4"
      },
      "source": [
        "Intentaremos hacer que la última capa del modelo solo tenga una neurona para ver si esto mejora el accuracy del modelo. Podemos pensar que en vez de intentar predecir un valor categórico vamos a intentar predecir un valor numérico de \"lujosidad\"."
      ]
    },
    {
      "cell_type": "code",
      "execution_count": 170,
      "metadata": {
        "id": "onrILtQvo8Vq"
      },
      "outputs": [],
      "source": [
        "model2 = keras.models.Sequential()\n",
        "model2.add(keras.layers.Dense(30, activation=\"relu\", input_shape=X_train.shape[1:]))\n",
        "model2.add(keras.layers.Dense(1))"
      ]
    },
    {
      "cell_type": "code",
      "execution_count": 171,
      "metadata": {
        "id": "4udhUwropDtF"
      },
      "outputs": [],
      "source": [
        "model2.compile(loss=\"mean_squared_error\", optimizer=\"sgd\", metrics=[\"accuracy\"])"
      ]
    },
    {
      "cell_type": "code",
      "execution_count": 172,
      "metadata": {
        "colab": {
          "base_uri": "https://localhost:8080/"
        },
        "id": "tZBn72wgpE0V",
        "outputId": "69d4240d-730a-4a3a-d287-a518927780c1"
      },
      "outputs": [
        {
          "output_type": "stream",
          "name": "stdout",
          "text": [
            "Epoch 1/20\n",
            "176/176 [==============================] - 2s 8ms/step - loss: 0.3106 - accuracy: 0.7582 - val_loss: 0.1163 - val_accuracy: 0.8437\n",
            "Epoch 2/20\n",
            "176/176 [==============================] - 0s 3ms/step - loss: 0.0958 - accuracy: 0.8660 - val_loss: 0.0820 - val_accuracy: 0.8635\n",
            "Epoch 3/20\n",
            "176/176 [==============================] - 0s 3ms/step - loss: 0.0748 - accuracy: 0.8738 - val_loss: 0.0669 - val_accuracy: 0.8651\n",
            "Epoch 4/20\n",
            "176/176 [==============================] - 0s 3ms/step - loss: 0.0626 - accuracy: 0.8754 - val_loss: 0.0573 - val_accuracy: 0.8672\n",
            "Epoch 5/20\n",
            "176/176 [==============================] - 1s 3ms/step - loss: 0.0541 - accuracy: 0.8763 - val_loss: 0.0507 - val_accuracy: 0.8677\n",
            "Epoch 6/20\n",
            "176/176 [==============================] - 1s 3ms/step - loss: 0.0478 - accuracy: 0.8766 - val_loss: 0.0452 - val_accuracy: 0.8677\n",
            "Epoch 7/20\n",
            "176/176 [==============================] - 1s 3ms/step - loss: 0.0428 - accuracy: 0.8766 - val_loss: 0.0409 - val_accuracy: 0.8677\n",
            "Epoch 8/20\n",
            "176/176 [==============================] - 0s 3ms/step - loss: 0.0387 - accuracy: 0.8766 - val_loss: 0.0371 - val_accuracy: 0.8677\n",
            "Epoch 9/20\n",
            "176/176 [==============================] - 0s 2ms/step - loss: 0.0352 - accuracy: 0.8770 - val_loss: 0.0338 - val_accuracy: 0.8677\n",
            "Epoch 10/20\n",
            "176/176 [==============================] - 0s 2ms/step - loss: 0.0320 - accuracy: 0.8768 - val_loss: 0.0310 - val_accuracy: 0.8677\n",
            "Epoch 11/20\n",
            "176/176 [==============================] - 0s 3ms/step - loss: 0.0293 - accuracy: 0.8768 - val_loss: 0.0282 - val_accuracy: 0.8677\n",
            "Epoch 12/20\n",
            "176/176 [==============================] - 0s 3ms/step - loss: 0.0267 - accuracy: 0.8770 - val_loss: 0.0257 - val_accuracy: 0.8677\n",
            "Epoch 13/20\n",
            "176/176 [==============================] - 0s 3ms/step - loss: 0.0242 - accuracy: 0.8770 - val_loss: 0.0232 - val_accuracy: 0.8677\n",
            "Epoch 14/20\n",
            "176/176 [==============================] - 0s 3ms/step - loss: 0.0218 - accuracy: 0.8770 - val_loss: 0.0208 - val_accuracy: 0.8677\n",
            "Epoch 15/20\n",
            "176/176 [==============================] - 0s 3ms/step - loss: 0.0194 - accuracy: 0.8770 - val_loss: 0.0184 - val_accuracy: 0.8677\n",
            "Epoch 16/20\n",
            "176/176 [==============================] - 0s 3ms/step - loss: 0.0171 - accuracy: 0.8770 - val_loss: 0.0162 - val_accuracy: 0.8677\n",
            "Epoch 17/20\n",
            "176/176 [==============================] - 0s 2ms/step - loss: 0.0150 - accuracy: 0.8770 - val_loss: 0.0142 - val_accuracy: 0.8677\n",
            "Epoch 18/20\n",
            "176/176 [==============================] - 1s 3ms/step - loss: 0.0132 - accuracy: 0.8770 - val_loss: 0.0123 - val_accuracy: 0.8677\n",
            "Epoch 19/20\n",
            "176/176 [==============================] - 1s 3ms/step - loss: 0.0115 - accuracy: 0.8770 - val_loss: 0.0107 - val_accuracy: 0.8677\n",
            "Epoch 20/20\n",
            "176/176 [==============================] - 1s 4ms/step - loss: 0.0100 - accuracy: 0.8770 - val_loss: 0.0094 - val_accuracy: 0.8677\n"
          ]
        }
      ],
      "source": [
        "history2 = model2.fit(X_train, y_train, epochs=20, validation_data=(X_valid, y_valid))"
      ]
    },
    {
      "cell_type": "code",
      "execution_count": 173,
      "metadata": {
        "colab": {
          "base_uri": "https://localhost:8080/",
          "height": 324
        },
        "id": "4E9p2DaipUxZ",
        "outputId": "256a7a1a-aa71-4e80-ef07-d062780276de"
      },
      "outputs": [
        {
          "output_type": "display_data",
          "data": {
            "text/plain": [
              "<Figure size 576x360 with 1 Axes>"
            ],
            "image/png": "[encoded data removed]"
          },
          "metadata": {
            "needs_background": "light"
          }
        }
      ],
      "source": [
        "pd.DataFrame(history2.history).plot(figsize=(8, 5))\n",
        "plt.grid(True)\n",
        "plt.gca().set_ylim(0, 1) # set the vertical range to [0-1]\n",
        "plt.show()"
      ]
    },
    {
      "cell_type": "markdown",
      "metadata": {
        "id": "CTcFdw_hpYHT"
      },
      "source": [
        "Como se puede ver el accuracy del modelo se logró aumentar considerablemente."
      ]
    },
    {
      "cell_type": "markdown",
      "metadata": {
        "id": "VSwTewHyphWm"
      },
      "source": [
        "Ahora haremos nuevas predicciones con el nuevo modelo."
      ]
    },
    {
      "cell_type": "code",
      "execution_count": 174,
      "metadata": {
        "colab": {
          "base_uri": "https://localhost:8080/"
        },
        "id": "HJIY_LMkplZF",
        "outputId": "a31f1ddf-dcfc-40fe-8f82-3df735828bd7"
      },
      "outputs": [
        {
          "output_type": "stream",
          "name": "stdout",
          "text": [
            "79/79 [==============================] - 0s 2ms/step - loss: 0.0097 - accuracy: 0.8700\n"
          ]
        },
        {
          "output_type": "execute_result",
          "data": {
            "text/plain": [
              "[0.009672031737864017, 0.8700000047683716]"
            ]
          },
          "metadata": {},
          "execution_count": 174
        }
      ],
      "source": [
        "mse_test2 = model2.evaluate(X_test, y_test)\n",
        "mse_test2"
      ]
    },
    {
      "cell_type": "code",
      "execution_count": 175,
      "metadata": {
        "colab": {
          "base_uri": "https://localhost:8080/"
        },
        "id": "LKd0bP3_qxrp",
        "outputId": "259e7801-25c9-453c-b488-67b8b97c0cc6"
      },
      "outputs": [
        {
          "output_type": "stream",
          "name": "stdout",
          "text": [
            "1/1 [==============================] - 0s 53ms/step\n"
          ]
        },
        {
          "output_type": "execute_result",
          "data": {
            "text/plain": [
              "array([[1.1119523],\n",
              "       [1.0183048],\n",
              "       [0.9648964]], dtype=float32)"
            ]
          },
          "metadata": {},
          "execution_count": 175
        }
      ],
      "source": [
        "X_dummy2 = X_test[:3]\n",
        "y_pred2 = model2.predict(X_dummy2)\n",
        "y_pred2"
      ]
    }
  ],
  "metadata": {
    "colab": {
      "provenance": []
    },
    "kernelspec": {
      "display_name": "Python 3",
      "language": "python",
      "name": "python3"
    },
    "language_info": {
      "codemirror_mode": {
        "name": "ipython",
        "version": 3
      },
      "file_extension": ".py",
      "mimetype": "text/x-python",
      "name": "python",
      "nbconvert_exporter": "python",
      "pygments_lexer": "ipython3",
      "version": "3.10.8"
    },
    "vscode": {
      "interpreter": {
        "hash": "e7370f93d1d0cde622a1f8e1c04877d8463912d04d973331ad4851f04de6915a"
      }
    }
  },
  "nbformat": 4,
  "nbformat_minor": 0
}