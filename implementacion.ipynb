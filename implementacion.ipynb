{
  "cells": [
    {
      "cell_type": "markdown",
      "metadata": {
        "id": "TlWW_byOdcdo"
      },
      "source": [
        "Momento de Retroalimentación: Módulo 2 Implementación de un modelo de deep learning."
      ]
    },
    {
      "cell_type": "markdown",
      "metadata": {
        "id": "7jRmLZGMxPe3"
      },
      "source": [
        "Importamos las librerías necesarias."
      ]
    },
    {
      "cell_type": "code",
      "execution_count": 1,
      "metadata": {
        "id": "SiENX5a4dVga"
      },
      "outputs": [],
      "source": [
        "from tensorflow import keras\n",
        "import pandas as pd\n",
        "import matplotlib.pyplot as plt\n",
        "import numpy as np"
      ]
    },
    {
      "cell_type": "markdown",
      "metadata": {
        "id": "yHBEj6fmVADR"
      },
      "source": [
        "Para este ejercicio trabajaremos con el dataset de Fashion MNIST."
      ]
    },
    {
      "cell_type": "markdown",
      "metadata": {
        "id": "wZCLTMQVfftr"
      },
      "source": [
        "También se utilizara la función de train_test_split para facilitar el preprocesamiento de datos."
      ]
    },
    {
      "cell_type": "code",
      "execution_count": 53,
      "metadata": {
        "id": "5I0TipbudjLx"
      },
      "outputs": [],
      "source": [
        "from sklearn.model_selection import train_test_split"
      ]
    },
    {
      "cell_type": "markdown",
      "metadata": {
        "id": "xCiNVaeSg345"
      },
      "source": [
        "Importamos los datos."
      ]
    },
    {
      "cell_type": "code",
      "execution_count": 3,
      "metadata": {
        "id": "sjQZiJC5bLRP"
      },
      "outputs": [],
      "source": [
        "fashion_mnist = keras.datasets.fashion_mnist"
      ]
    },
    {
      "cell_type": "markdown",
      "metadata": {
        "id": "9B2qo7CtbLRV"
      },
      "source": [
        "Y luego vamos a separar los datos entre train y test."
      ]
    },
    {
      "cell_type": "code",
      "execution_count": 4,
      "metadata": {
        "id": "q_Hcl_RMg8lz",
        "colab": {
          "base_uri": "https://localhost:8080/"
        },
        "outputId": "bdb210e0-fd18-4e7f-c196-84c5c20c0bb3"
      },
      "outputs": [
        {
          "output_type": "stream",
          "name": "stdout",
          "text": [
            "Downloading data from https://storage.googleapis.com/tensorflow/tf-keras-datasets/train-labels-idx1-ubyte.gz\n",
            "29515/29515 [==============================] - 0s 0us/step\n",
            "Downloading data from https://storage.googleapis.com/tensorflow/tf-keras-datasets/train-images-idx3-ubyte.gz\n",
            "26421880/26421880 [==============================] - 0s 0us/step\n",
            "Downloading data from https://storage.googleapis.com/tensorflow/tf-keras-datasets/t10k-labels-idx1-ubyte.gz\n",
            "5148/5148 [==============================] - 0s 0us/step\n",
            "Downloading data from https://storage.googleapis.com/tensorflow/tf-keras-datasets/t10k-images-idx3-ubyte.gz\n",
            "4422102/4422102 [==============================] - 0s 0us/step\n"
          ]
        }
      ],
      "source": [
        "(X_train_full, y_train_full), (X_test, y_test) = fashion_mnist.load_data()"
      ]
    },
    {
      "cell_type": "markdown",
      "metadata": {
        "id": "l8AlvJ-ehAsj"
      },
      "source": [
        "Hacemos otro split sobre los datos de train para obtener datos de validación"
      ]
    },
    {
      "cell_type": "code",
      "execution_count": 5,
      "metadata": {
        "id": "ex1SoAkxhDbO"
      },
      "outputs": [],
      "source": [
        "X_train, X_valid, y_train, y_valid = train_test_split(X_train_full, y_train_full)"
      ]
    },
    {
      "cell_type": "markdown",
      "metadata": {
        "id": "Zc43FliqH8vA"
      },
      "source": [
        "También vamos a escalar los datos de entrada."
      ]
    },
    {
      "cell_type": "code",
      "execution_count": 6,
      "metadata": {
        "id": "youmkElRH8vC"
      },
      "outputs": [],
      "source": [
        "X_train = X_train / 255.0\n",
        "X_test = X_test / 255.0\n",
        "X_valid = X_valid / 255.0"
      ]
    },
    {
      "cell_type": "markdown",
      "source": [
        "Asignamos nombres a las clases"
      ],
      "metadata": {
        "id": "uVF6bJj7bdMn"
      }
    },
    {
      "cell_type": "code",
      "execution_count": 7,
      "metadata": {
        "id": "2E5rQ9H_H8vC"
      },
      "outputs": [],
      "source": [
        "class_names = [\"T-shirt/top\", \"Trouser\", \"Pullover\", \"Dress\", \"Coat\",\n",
        "\"Sandal\", \"Shirt\", \"Sneaker\", \"Bag\", \"Ankle boot\"]"
      ]
    },
    {
      "cell_type": "markdown",
      "metadata": {
        "id": "_YeAqjQTH8vD"
      },
      "source": [
        "Vamos a crear una red CNN con la API `Sequential()` de keras."
      ]
    },
    {
      "cell_type": "code",
      "execution_count": 8,
      "metadata": {
        "id": "Buj-QrtJH8vD"
      },
      "outputs": [],
      "source": [
        "model = keras.models.Sequential()"
      ]
    },
    {
      "cell_type": "markdown",
      "metadata": {
        "id": "dBHbASH5H8vE"
      },
      "source": [
        "Primero añadimos una capa de 64 filtros de 7 x 7, además configuramos el input_shape=[28, 28, 1] porque las imagenes son de 28 x 28 píxeles en escala de grises."
      ]
    },
    {
      "cell_type": "code",
      "execution_count": 9,
      "metadata": {
        "id": "kcmPxL1VH8vF"
      },
      "outputs": [],
      "source": [
        "model.add(keras.layers.Conv2D(64, 7, activation=\"relu\", padding=\"same\",\n",
        "input_shape=[28, 28, 1]))"
      ]
    },
    {
      "cell_type": "markdown",
      "metadata": {
        "id": "kKsz1gMJH8vF"
      },
      "source": [
        "Después, añadimos una capa de MaxPooling2D con un pool size de 2 para dividir cada dimensión espacial entre 2."
      ]
    },
    {
      "cell_type": "code",
      "execution_count": 10,
      "metadata": {
        "id": "A17dK3qVH8vF"
      },
      "outputs": [],
      "source": [
        "model.add(keras.layers.MaxPooling2D(2))"
      ]
    },
    {
      "cell_type": "markdown",
      "metadata": {
        "id": "SHNWiWNPH8vG"
      },
      "source": [
        "Y seguimos repitiendo el patrón anteriro de añadir capas relu seguidas por una capa MaxPooling2D, sólo que duplicando la cantidad de filtros hasta llegar a 256."
      ]
    },
    {
      "cell_type": "code",
      "execution_count": 11,
      "metadata": {
        "id": "OiZmJtcXH8vG"
      },
      "outputs": [],
      "source": [
        "model.add(keras.layers.Conv2D(128, 3, activation=\"relu\", padding=\"same\"))"
      ]
    },
    {
      "cell_type": "code",
      "execution_count": 12,
      "metadata": {
        "id": "cBAor0TIH8vH"
      },
      "outputs": [],
      "source": [
        "model.add(keras.layers.Conv2D(128, 3, activation=\"relu\", padding=\"same\"))"
      ]
    },
    {
      "cell_type": "code",
      "execution_count": 13,
      "metadata": {
        "id": "1GVUNXkAH8vH"
      },
      "outputs": [],
      "source": [
        "model.add(keras.layers.MaxPooling2D(2))"
      ]
    },
    {
      "cell_type": "code",
      "execution_count": 14,
      "metadata": {
        "id": "fTOivUGQH8vI"
      },
      "outputs": [],
      "source": [
        "model.add(keras.layers.Conv2D(256, 3, activation=\"relu\", padding=\"same\"))"
      ]
    },
    {
      "cell_type": "code",
      "execution_count": 15,
      "metadata": {
        "id": "zUqUbHGwH8vI"
      },
      "outputs": [],
      "source": [
        "model.add(keras.layers.Conv2D(256, 3, activation=\"relu\", padding=\"same\"))"
      ]
    },
    {
      "cell_type": "code",
      "execution_count": 16,
      "metadata": {
        "id": "wCnkMx7gH8vI"
      },
      "outputs": [],
      "source": [
        "model.add(keras.layers.MaxPooling2D(2))"
      ]
    },
    {
      "cell_type": "markdown",
      "metadata": {
        "id": "OvpmthySH8vI"
      },
      "source": [
        "Finalmente, añadimos una red de dos capas ocultas y una capa de salida, debemos hacer un flattening ya que la red recibe un array de una sola dimensión como entrada. Igualmente, añadimos dos capas dropout con una tasa de 50% cada una para reducir las posibilidades de overfitting."
      ]
    },
    {
      "cell_type": "code",
      "execution_count": 17,
      "metadata": {
        "id": "_KZQKuyqH8vJ"
      },
      "outputs": [],
      "source": [
        "model.add(keras.layers.Flatten())"
      ]
    },
    {
      "cell_type": "code",
      "execution_count": 18,
      "metadata": {
        "id": "hjySOOwcH8vJ"
      },
      "outputs": [],
      "source": [
        "model.add(keras.layers.Dense(128, activation=\"relu\"))"
      ]
    },
    {
      "cell_type": "code",
      "execution_count": 19,
      "metadata": {
        "id": "a54UJy6pH8vK"
      },
      "outputs": [],
      "source": [
        "model.add(keras.layers.Dropout(0.5))"
      ]
    },
    {
      "cell_type": "code",
      "execution_count": 20,
      "metadata": {
        "id": "GKIchXz1H8vK"
      },
      "outputs": [],
      "source": [
        "model.add(keras.layers.Dense(64, activation=\"relu\"))"
      ]
    },
    {
      "cell_type": "code",
      "execution_count": 21,
      "metadata": {
        "id": "l40sOmrDH8vL"
      },
      "outputs": [],
      "source": [
        "model.add(keras.layers.Dropout(0.5))"
      ]
    },
    {
      "cell_type": "code",
      "execution_count": 22,
      "metadata": {
        "id": "DVd4MAqsH8vL"
      },
      "outputs": [],
      "source": [
        "model.add(keras.layers.Dense(10, activation=\"softmax\"))"
      ]
    },
    {
      "cell_type": "markdown",
      "metadata": {
        "id": "argPDGYoH8vN"
      },
      "source": [
        "Aquí podemos ver un resumen sobre las capas que conforman nuestra red."
      ]
    },
    {
      "cell_type": "code",
      "execution_count": 23,
      "metadata": {
        "colab": {
          "base_uri": "https://localhost:8080/"
        },
        "id": "eUkBQYh6H8vN",
        "outputId": "a8b6a5a2-9ba1-4aa6-9daa-f9a3b4a8039f"
      },
      "outputs": [
        {
          "output_type": "execute_result",
          "data": {
            "text/plain": [
              "[<keras.layers.convolutional.conv2d.Conv2D at 0x7f1bef80c220>,\n",
              " <keras.layers.pooling.max_pooling2d.MaxPooling2D at 0x7f1bef80c310>,\n",
              " <keras.layers.convolutional.conv2d.Conv2D at 0x7f1beb5fc430>,\n",
              " <keras.layers.convolutional.conv2d.Conv2D at 0x7f1beb594a30>,\n",
              " <keras.layers.pooling.max_pooling2d.MaxPooling2D at 0x7f1beb594a00>,\n",
              " <keras.layers.convolutional.conv2d.Conv2D at 0x7f1beb59f8b0>,\n",
              " <keras.layers.convolutional.conv2d.Conv2D at 0x7f1beb5949a0>,\n",
              " <keras.layers.pooling.max_pooling2d.MaxPooling2D at 0x7f1beb59f460>,\n",
              " <keras.layers.reshaping.flatten.Flatten at 0x7f1beb59f400>,\n",
              " <keras.layers.core.dense.Dense at 0x7f1beb5acc70>,\n",
              " <keras.layers.regularization.dropout.Dropout at 0x7f1beb5a55b0>,\n",
              " <keras.layers.core.dense.Dense at 0x7f1befecd5b0>,\n",
              " <keras.layers.regularization.dropout.Dropout at 0x7f1beb5ac5e0>,\n",
              " <keras.layers.core.dense.Dense at 0x7f1beb59f5b0>]"
            ]
          },
          "metadata": {},
          "execution_count": 23
        }
      ],
      "source": [
        "model.layers"
      ]
    },
    {
      "cell_type": "markdown",
      "metadata": {
        "id": "A98LiHmFH8vN"
      },
      "source": [
        "Finalmente, pasamos a compilar nuestro modelol"
      ]
    },
    {
      "cell_type": "code",
      "execution_count": 24,
      "metadata": {
        "colab": {
          "base_uri": "https://localhost:8080/"
        },
        "id": "KTUyPBg9H8vO",
        "outputId": "67b88313-a2ba-4e98-d8f0-d6d3eb072336"
      },
      "outputs": [
        {
          "output_type": "stream",
          "name": "stderr",
          "text": [
            "/usr/local/lib/python3.8/dist-packages/keras/optimizers/optimizer_v2/gradient_descent.py:108: UserWarning: The `lr` argument is deprecated, use `learning_rate` instead.\n",
            "  super(SGD, self).__init__(name, **kwargs)\n"
          ]
        }
      ],
      "source": [
        "model.compile(loss=\"sparse_categorical_crossentropy\", \n",
        "optimizer=keras.optimizers.SGD(lr=0.01), metrics=[\"accuracy\"])"
      ]
    },
    {
      "cell_type": "markdown",
      "metadata": {
        "id": "dkNqae6uH8vP"
      },
      "source": [
        "Y entrenamos al modelo haciendo uso de su función fit"
      ]
    },
    {
      "cell_type": "code",
      "execution_count": 25,
      "metadata": {
        "colab": {
          "base_uri": "https://localhost:8080/"
        },
        "id": "SBrOuy5hH8vQ",
        "outputId": "6482d3f6-079e-40a5-cf46-a62e46a177c6"
      },
      "outputs": [
        {
          "output_type": "stream",
          "name": "stdout",
          "text": [
            "Epoch 1/5\n",
            "1407/1407 [==============================] - 682s 484ms/step - loss: 1.5502 - accuracy: 0.4277 - val_loss: 0.8176 - val_accuracy: 0.7090\n",
            "Epoch 2/5\n",
            "1407/1407 [==============================] - 682s 484ms/step - loss: 0.9100 - accuracy: 0.6619 - val_loss: 0.6449 - val_accuracy: 0.7527\n",
            "Epoch 3/5\n",
            "1407/1407 [==============================] - 679s 483ms/step - loss: 0.7402 - accuracy: 0.7283 - val_loss: 0.5561 - val_accuracy: 0.8043\n",
            "Epoch 4/5\n",
            "1407/1407 [==============================] - 685s 487ms/step - loss: 0.6429 - accuracy: 0.7691 - val_loss: 0.4660 - val_accuracy: 0.8319\n",
            "Epoch 5/5\n",
            "1407/1407 [==============================] - 683s 485ms/step - loss: 0.5824 - accuracy: 0.7959 - val_loss: 0.4350 - val_accuracy: 0.8407\n"
          ]
        }
      ],
      "source": [
        "history = model.fit(X_train, y_train, epochs=5, validation_data=(X_valid, y_valid))"
      ]
    },
    {
      "cell_type": "markdown",
      "source": [
        "Importamos matplotlib y pandas para gráficar el entrenamiento."
      ],
      "metadata": {
        "id": "0i4Ry9rGVuCD"
      }
    },
    {
      "cell_type": "code",
      "source": [
        "import pandas as pd\n",
        "import matplotlib.pyplot as plt"
      ],
      "metadata": {
        "id": "DA7eJ_4VV0S8"
      },
      "execution_count": 27,
      "outputs": []
    },
    {
      "cell_type": "markdown",
      "source": [
        "Y gráficamos."
      ],
      "metadata": {
        "id": "PbjnnBH6V9cg"
      }
    },
    {
      "cell_type": "code",
      "source": [
        "pd.DataFrame(history.history).plot(figsize=(8, 5))\n",
        "plt.grid(True)\n",
        "plt.gca().set_ylim(0, 1) # set the vertical range to [0-1]\n",
        "plt.show()"
      ],
      "metadata": {
        "colab": {
          "base_uri": "https://localhost:8080/",
          "height": 324
        },
        "id": "9rc1yqvMVqha",
        "outputId": "f86632ff-fca4-44de-d918-0c64e1bb3a85"
      },
      "execution_count": 28,
      "outputs": [
        {
          "output_type": "display_data",
          "data": {
            "text/plain": [
              "<Figure size 576x360 with 1 Axes>"
            ],
            "image/png": "[encoded data removed]"
          },
          "metadata": {
            "needs_background": "light"
          }
        }
      ]
    },
    {
      "cell_type": "markdown",
      "source": [
        "Como se puede ver la tendencia del accuracy es incremental y la de loss decremental, por lo cual podemos afirmar que este modelo es adecuado. Obviamente, podríamos obtener mayor accuracy y menor loss si le damos más epochs de entrenamiento al modelo."
      ],
      "metadata": {
        "id": "zsnGa5qSWAWY"
      }
    },
    {
      "cell_type": "markdown",
      "source": [
        "Pasaremos a evaluar el modelo con los datos de test."
      ],
      "metadata": {
        "id": "c_7_ppGCWZIr"
      }
    },
    {
      "cell_type": "code",
      "source": [
        "model.evaluate(X_test, y_test)"
      ],
      "metadata": {
        "colab": {
          "base_uri": "https://localhost:8080/"
        },
        "id": "giIMAMWkWYes",
        "outputId": "5d09cd89-53c5-41de-96c2-213892528631"
      },
      "execution_count": 29,
      "outputs": [
        {
          "output_type": "stream",
          "name": "stdout",
          "text": [
            "313/313 [==============================] - 35s 112ms/step - loss: 0.4640 - accuracy: 0.8297\n"
          ]
        },
        {
          "output_type": "execute_result",
          "data": {
            "text/plain": [
              "[0.46403682231903076, 0.8296999931335449]"
            ]
          },
          "metadata": {},
          "execution_count": 29
        }
      ]
    },
    {
      "cell_type": "markdown",
      "source": [
        "Como podemos ver se obtuvo un buen accuracy.\n",
        "Ahora pasaremos a hacer predicciones con el modelo."
      ],
      "metadata": {
        "id": "APKmmCFfWwQN"
      }
    },
    {
      "cell_type": "markdown",
      "source": [
        "Para ello crearemos un dataset con las primeras 5 entradas del dataset de entrenamiento, con el fin de usar estos valores para hacer las predicciones."
      ],
      "metadata": {
        "id": "_If692F4W7XX"
      }
    },
    {
      "cell_type": "code",
      "source": [
        "X_new = X_test[:5]"
      ],
      "metadata": {
        "id": "sDDVG4MXWz8B"
      },
      "execution_count": 34,
      "outputs": []
    },
    {
      "cell_type": "markdown",
      "source": [
        "Y predecimos a qué clases pertenecen los valores."
      ],
      "metadata": {
        "id": "v5sV83J-XiDq"
      }
    },
    {
      "cell_type": "code",
      "source": [
        "y_proba = model.predict(X_new)\n",
        "predictions = y_proba.round(2)\n",
        "predictions"
      ],
      "metadata": {
        "colab": {
          "base_uri": "https://localhost:8080/"
        },
        "id": "sAAEA-RWXnqq",
        "outputId": "c5d93e7b-fb87-46b7-d733-c097e3224f6e"
      },
      "execution_count": 39,
      "outputs": [
        {
          "output_type": "stream",
          "name": "stdout",
          "text": [
            "1/1 [==============================] - 0s 37ms/step\n"
          ]
        },
        {
          "output_type": "execute_result",
          "data": {
            "text/plain": [
              "array([[0.  , 0.  , 0.  , 0.  , 0.  , 0.03, 0.  , 0.07, 0.  , 0.9 ],\n",
              "       [0.  , 0.  , 0.93, 0.  , 0.02, 0.  , 0.06, 0.  , 0.  , 0.  ],\n",
              "       [0.  , 1.  , 0.  , 0.  , 0.  , 0.  , 0.  , 0.  , 0.  , 0.  ],\n",
              "       [0.  , 1.  , 0.  , 0.  , 0.  , 0.  , 0.  , 0.  , 0.  , 0.  ],\n",
              "       [0.1 , 0.  , 0.15, 0.02, 0.05, 0.  , 0.68, 0.  , 0.  , 0.  ]],\n",
              "      dtype=float32)"
            ]
          },
          "metadata": {},
          "execution_count": 39
        }
      ]
    },
    {
      "cell_type": "markdown",
      "source": [
        "Luego obtenemos la clase con la mayor probabilidad por cada predicción."
      ],
      "metadata": {
        "id": "8lcJbtO8ZArs"
      }
    },
    {
      "cell_type": "code",
      "source": [
        "predClasses = []\n",
        "for prediction in predictions:\n",
        "  predClasses.append(prediction.argmax(axis=0))\n",
        "\n",
        "predClasses"
      ],
      "metadata": {
        "colab": {
          "base_uri": "https://localhost:8080/"
        },
        "id": "B40-1VBzX9ta",
        "outputId": "08060bac-861f-47f4-a136-c62abdba9bd7"
      },
      "execution_count": 43,
      "outputs": [
        {
          "output_type": "execute_result",
          "data": {
            "text/plain": [
              "[9, 2, 1, 1, 6]"
            ]
          },
          "metadata": {},
          "execution_count": 43
        }
      ]
    },
    {
      "cell_type": "markdown",
      "source": [
        "Y comparamos con las clases reales de los datos usados para hacer las predicciones."
      ],
      "metadata": {
        "id": "T2euvk-SZHHp"
      }
    },
    {
      "cell_type": "code",
      "source": [
        "y_true = y_test[:5]\n",
        "y_true"
      ],
      "metadata": {
        "colab": {
          "base_uri": "https://localhost:8080/"
        },
        "id": "q_VypP9mY4Ye",
        "outputId": "bd6c9288-4714-4dbe-ce62-bd19870c23d8"
      },
      "execution_count": 45,
      "outputs": [
        {
          "output_type": "execute_result",
          "data": {
            "text/plain": [
              "array([9, 2, 1, 1, 6], dtype=uint8)"
            ]
          },
          "metadata": {},
          "execution_count": 45
        }
      ]
    },
    {
      "cell_type": "code",
      "source": [
        "np.array(class_names)[predClasses]"
      ],
      "metadata": {
        "colab": {
          "base_uri": "https://localhost:8080/"
        },
        "id": "GdohIceBZM28",
        "outputId": "3c64b96b-0939-4f28-e3e8-38a3dc7b8ea1"
      },
      "execution_count": 51,
      "outputs": [
        {
          "output_type": "execute_result",
          "data": {
            "text/plain": [
              "array(['Ankle boot', 'Pullover', 'Trouser', 'Trouser', 'Shirt'],\n",
              "      dtype='<U11')"
            ]
          },
          "metadata": {},
          "execution_count": 51
        }
      ]
    },
    {
      "cell_type": "code",
      "source": [
        "np.array(class_names)[y_true]"
      ],
      "metadata": {
        "colab": {
          "base_uri": "https://localhost:8080/"
        },
        "id": "wxkl_U-WZQlk",
        "outputId": "bbbc995a-e05c-437c-c0c9-9a1cfd7dce98"
      },
      "execution_count": 52,
      "outputs": [
        {
          "output_type": "execute_result",
          "data": {
            "text/plain": [
              "array(['Ankle boot', 'Pullover', 'Trouser', 'Trouser', 'Shirt'],\n",
              "      dtype='<U11')"
            ]
          },
          "metadata": {},
          "execution_count": 52
        }
      ]
    },
    {
      "cell_type": "markdown",
      "source": [
        "Podemos ver que se predijo correctamente la clase de los valores de entrada."
      ],
      "metadata": {
        "id": "p9FDRR49ZR3F"
      }
    }
  ],
  "metadata": {
    "colab": {
      "provenance": []
    },
    "kernelspec": {
      "display_name": "Python 3",
      "language": "python",
      "name": "python3"
    },
    "language_info": {
      "codemirror_mode": {
        "name": "ipython",
        "version": 3
      },
      "file_extension": ".py",
      "mimetype": "text/x-python",
      "name": "python",
      "nbconvert_exporter": "python",
      "pygments_lexer": "ipython3",
      "version": "3.10.8"
    },
    "vscode": {
      "interpreter": {
        "hash": "e7370f93d1d0cde622a1f8e1c04877d8463912d04d973331ad4851f04de6915a"
      }
    }
  },
  "nbformat": 4,
  "nbformat_minor": 0
}